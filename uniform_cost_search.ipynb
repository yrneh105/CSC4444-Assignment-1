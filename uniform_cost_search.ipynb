{
 "cells": [
  {
   "cell_type": "code",
   "execution_count": 2,
   "id": "19abba82-6333-4397-ac0e-c4a96bd66c00",
   "metadata": {},
   "outputs": [
    {
     "name": "stdout",
     "output_type": "stream",
     "text": [
      "Minimum cost to reach goal state(s): 8\n",
      "Path with minimum cost: [0, 2, 5, 7]\n"
     ]
    }
   ],
   "source": [
    "import heapq\n",
    "\n",
    "def uniform_cost_search(start_state, goal_states, graph, costs):\n",
    "    # Initialize priority queue with start state and cost 0\n",
    "    priority_queue = [(0, start_state, [start_state])]\n",
    "    # Initialize set to keep track of visited states\n",
    "    visited = set()\n",
    "    # Initialize dictionary to keep track of minimum cost to reach each state\n",
    "    min_cost_to_state = {start_state: 0}\n",
    "    # Initialize dictionary to keep track of paths to each state\n",
    "    paths_to_state = {start_state: [start_state]}\n",
    "    \n",
    "    while priority_queue:\n",
    "        # Pop the state with the minimum cost from the priority queue\n",
    "        current_cost, current_state, current_path = heapq.heappop(priority_queue)\n",
    "        \n",
    "        # Check if current state is one of the goal states\n",
    "        if current_state in goal_states:\n",
    "            return current_cost, current_path\n",
    "        \n",
    "        # Mark current state as visited\n",
    "        visited.add(current_state)\n",
    "        \n",
    "        # Explore neighbors of the current state\n",
    "        for neighbor in graph[current_state]:\n",
    "            # Calculate the total cost to reach the neighbor\n",
    "            total_cost = current_cost + costs[(current_state, neighbor)]\n",
    "            # Create a new path to the neighbor\n",
    "            new_path = current_path + [neighbor]\n",
    "            \n",
    "            # If neighbor has not been visited or the new cost is less than the minimum cost recorded,\n",
    "            # update the minimum cost, add neighbor to the priority queue, and update the path to neighbor\n",
    "            if neighbor not in visited and (neighbor not in min_cost_to_state or total_cost < min_cost_to_state[neighbor]):\n",
    "                min_cost_to_state[neighbor] = total_cost\n",
    "                heapq.heappush(priority_queue, (total_cost, neighbor, new_path))\n",
    "                paths_to_state[neighbor] = new_path\n",
    "    \n",
    "    # If no path is found to any goal state, return infinity and an empty path\n",
    "    return float('inf'), []\n",
    "\n",
    "# Example usage\n",
    "start_state = 0\n",
    "goal_states = {7}\n",
    "graph = {\n",
    "    0: {1, 2},\n",
    "    1: {0, 3, 4},\n",
    "    2: {0, 5},\n",
    "    3: {1, 6},\n",
    "    4: {1, 7},\n",
    "    5: {2, 7},\n",
    "    6: {3, 7},\n",
    "    7: {4, 5, 6}\n",
    "}\n",
    "costs = {\n",
    "    (0, 1): 1, (1, 0): 1,\n",
    "    (0, 2): 5, (2, 0): 5,\n",
    "    (1, 3): 3, (3, 1): 3,\n",
    "    (1, 4): 10, (4, 1): 10,\n",
    "    (2, 5): 2, (5, 2): 2,\n",
    "    (3, 6): 7, (6, 3): 7,\n",
    "    (4, 7): 2, (7, 4): 2,\n",
    "    (5, 7): 1, (7, 5): 1,\n",
    "    (6, 7): 3, (7, 6): 3\n",
    "}\n",
    "\n",
    "min_cost, min_path = uniform_cost_search(start_state, goal_states, graph, costs)\n",
    "print(\"Minimum cost to reach goal state(s):\", min_cost)\n",
    "print(\"Path with minimum cost:\", min_path)\n"
   ]
  },
  {
   "cell_type": "code",
   "execution_count": null,
   "id": "bb75a7d9-d3ea-4cf1-b71d-5a98e1b49a50",
   "metadata": {},
   "outputs": [],
   "source": []
  }
 ],
 "metadata": {
  "kernelspec": {
   "display_name": "Python 3 (ipykernel)",
   "language": "python",
   "name": "python3"
  },
  "language_info": {
   "codemirror_mode": {
    "name": "ipython",
    "version": 3
   },
   "file_extension": ".py",
   "mimetype": "text/x-python",
   "name": "python",
   "nbconvert_exporter": "python",
   "pygments_lexer": "ipython3",
   "version": "3.12.1"
  }
 },
 "nbformat": 4,
 "nbformat_minor": 5
}
